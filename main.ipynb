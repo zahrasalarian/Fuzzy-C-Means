{
 "metadata": {
  "language_info": {
   "codemirror_mode": {
    "name": "ipython",
    "version": 3
   },
   "file_extension": ".py",
   "mimetype": "text/x-python",
   "name": "python",
   "nbconvert_exporter": "python",
   "pygments_lexer": "ipython3",
   "version": "3.8.5"
  },
  "orig_nbformat": 2,
  "kernelspec": {
   "name": "python385jvsc74a57bd00a679f1027105442ff7ee09d31602f344159fa5fe550f778809e1cc32c77dbbf",
   "display_name": "Python 3.8.5 64-bit"
  }
 },
 "nbformat": 4,
 "nbformat_minor": 2,
 "cells": [
  {
   "cell_type": "code",
   "execution_count": 1,
   "metadata": {},
   "outputs": [],
   "source": [
    "import numpy as np\n",
    "import pandas as pd\n"
   ]
  },
  {
   "cell_type": "code",
   "execution_count": 11,
   "metadata": {},
   "outputs": [],
   "source": [
    "class Node():\n",
    "    def __init__(self, values):\n",
    "        self.values = values\n",
    "        self.k = 0\n",
    "    \n",
    "    def set_k(k):\n",
    "        self.k = k"
   ]
  },
  {
   "cell_type": "code",
   "execution_count": 12,
   "metadata": {},
   "outputs": [],
   "source": [
    "def load_files(directory):\n",
    "    data_sets = []   \n",
    "    os.chdir(r\"{}\".format(directory))\n",
    "    files = os.listdir()\n",
    "    for file in files:\n",
    "        data = pd.read_csv(''.join(file))\n",
    "        data_sets.append(data)\n",
    "    os.chdir(r\"..\")\n",
    "    return data_sets\n"
   ]
  },
  {
   "cell_type": "code",
   "execution_count": 13,
   "metadata": {},
   "outputs": [],
   "source": [
    "data_sets = load_files('data')"
   ]
  },
  {
   "cell_type": "code",
   "execution_count": 46,
   "metadata": {},
   "outputs": [],
   "source": [
    "def data_to_node(data_set):\n",
    "    nodes = []\n",
    "    for index, row in data_set.iterrows():\n",
    "        node = Node(values= list(row))\n",
    "        nodes.append(node)\n",
    "    return np.array(nodes)"
   ]
  },
  {
   "cell_type": "code",
   "execution_count": 60,
   "metadata": {
    "tags": []
   },
   "outputs": [],
   "source": [
    "node_sets = []\n",
    "for ds in data_sets:\n",
    "    node_sets.append(data_to_node(ds))"
   ]
  },
  {
   "cell_type": "code",
   "execution_count": 62,
   "metadata": {},
   "outputs": [
    {
     "output_type": "execute_result",
     "data": {
      "text/plain": [
       "<__main__.Node at 0x284d2e3db80>"
      ]
     },
     "metadata": {},
     "execution_count": 62
    }
   ],
   "source": []
  },
  {
   "cell_type": "code",
   "execution_count": null,
   "metadata": {},
   "outputs": [],
   "source": []
  }
 ]
}